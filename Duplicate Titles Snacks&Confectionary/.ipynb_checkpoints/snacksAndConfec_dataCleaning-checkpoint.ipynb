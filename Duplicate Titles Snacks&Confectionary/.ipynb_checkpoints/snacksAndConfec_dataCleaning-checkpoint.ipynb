{
 "cells": [
  {
   "cell_type": "markdown",
   "metadata": {},
   "source": [
    "### Importing pandas library to manipulate the structured data"
   ]
  },
  {
   "cell_type": "code",
   "execution_count": 1,
   "metadata": {},
   "outputs": [],
   "source": [
    "import pandas as pd\n",
    "from nltk import ngrams\n",
    "from sklearn.feature_extraction.text import TfidfVectorizer\n",
    "from sklearn.metrics.pairwise import cosine_similarity"
   ]
  },
  {
   "cell_type": "markdown",
   "metadata": {},
   "source": [
    "### Loading the data into a dataframe"
   ]
  },
  {
   "cell_type": "code",
   "execution_count": 2,
   "metadata": {},
   "outputs": [],
   "source": [
    "original_df = pd.read_excel('catalog.xlsx')"
   ]
  },
  {
   "cell_type": "markdown",
   "metadata": {},
   "source": [
    "### extracting all information related to a single category and storing catalog indexes of those entries"
   ]
  },
  {
   "cell_type": "code",
   "execution_count": 4,
   "metadata": {},
   "outputs": [],
   "source": [
    "# copying the information related to the specified category into a new dataframe\n",
    "df2 = original_df[original_df['category'] == 'Snacks & Confectionery'].copy()\n",
    "\n",
    "# resetting the index of the dataframe to enumerate the new dataframe's index sequentially\n",
    "df2 = df2.reset_index(drop=True)\n",
    "\n",
    "# inserting the original catalog indexes of each row into a new column in the newer dataframe\n",
    "df2.insert(0, 'RowNumber', original_df.index[original_df['category'] == 'Snacks & Confectionery'].tolist())"
   ]
  },
  {
   "cell_type": "code",
   "execution_count": 12,
   "metadata": {},
   "outputs": [],
   "source": [
    "\n",
    "\n",
    "    # Converts all text to lowercase, in order to train and test effectively\n",
    "    df2['product_name_english'] = df2['product_name_english'].str.lower()\n",
    "\n",
    "    # Remove substrings in 'product_name_english' column that start with '-00'  followed by any sequence of characters\n",
    "    df2['product_name_english'] = df2['product_name_english'].str.replace('-00.*', '', regex=True)\n",
    "\n",
    "    # Remove leading and trailing whitespaces \n",
    "    df2['product_name_english'] = df2['product_name_english'].str.strip()\n",
    "\n",
    "    # Remove non-alphanumeric characters, except for whitespace, percent, and ampersand,\n",
    "    df2['product_name_english'] = df2['product_name_english'].str.replace(r'[^\\w\\s%&]', '', regex=True)\n",
    "\n",
    "    # Replace occurrences of digits followed by 's' with the digits and ' pieces'\n",
    "    df2['product_name_english'] = df2['product_name_english'].str.replace(r'(\\d+)s', r'\\1 pieces', regex=True)\n",
    "\n",
    "    # Add a space between digits and alphabetic characters\n",
    "    df2['product_name_english'] = df2['product_name_english'].str.replace(r'(\\d)(?=[a-zA-Z])', r'\\1 ', regex=True)\n",
    "\n",
    "    # Remove words consisting of five or more consecutive digits\n",
    "    df2['product_name_english'] = df2['product_name_english'].str.replace(r'\\b\\d{5,}\\b', '', regex=True)\n",
    "\n",
    "    # Replace 'pcs' with 'pieces'\n",
    "    df2['product_name_english'] = df2['product_name_english'].str.replace(r'pcs\\b', 'pieces', regex=True)\n",
    "\n",
    "    # Replace 'pc' with 'pieces'\n",
    "    df2['product_name_english'] = df2['product_name_english'].str.replace(r'pc\\b', 'pieces', regex=True)\n",
    "\n",
    "    # Replace 'choc' with 'chocolate'\n",
    "    df2['product_name_english'] = df2['product_name_english'].str.replace(r'choc\\b', 'chocolate', regex=True)\n",
    "\n",
    "    # Replace 'xtra' with 'extra'\n",
    "    df2['product_name_english'] = df2['product_name_english'].str.replace(r'xtra\\b', 'extra', regex=True)\n",
    "\n",
    "    # Remove whole words 'imp' or 'basic'\n",
    "    df2['product_name_english'] = df2['product_name_english'].str.replace(r'\\bimp\\b|\\bbasic\\b', '', regex=True)\n",
    "\n",
    "    # Replace consecutive whitespace characters with a single space\n",
    "    df2['product_name_english'] = df2['product_name_english'].str.replace(r'\\s+', ' ', regex=True)\n",
    "\n",
    "    "
   ]
  },
  {
   "cell_type": "markdown",
   "metadata": {},
   "source": [
    "### Calling the data cleaning function to store the relevant information from the filtered dataframe"
   ]
  },
  {
   "cell_type": "code",
   "execution_count": 13,
   "metadata": {},
   "outputs": [],
   "source": [
    "resultDf, catalogIndex, originalNames = dataCleaningSandC(filtered_df)"
   ]
  },
  {
   "cell_type": "markdown",
   "metadata": {},
   "source": [
    "### Writing all the data in a text file in order to make it in a suitable format for manual annotation\n",
    "#### Refer to the readme file in github repo to understand the annotation details further"
   ]
  },
  {
   "cell_type": "code",
   "execution_count": 14,
   "metadata": {},
   "outputs": [],
   "source": [
    "# getting all the cleaned titles in a list\n",
    "column_data = resultDf['product_name_english']\n",
    "\n",
    "# Writing to a text file with each cleaned entry on a new line\n",
    "with open('outputSandC.txt', 'w') as file:\n",
    "    for entry in column_data:\n",
    "        file.write(str(entry) + '\\n')"
   ]
  },
  {
   "cell_type": "markdown",
   "metadata": {},
   "source": [
    "### Importing shuffling functions to shuffle order of cleaned titles in order to make sure data is varied and has no pattern"
   ]
  },
  {
   "cell_type": "code",
   "execution_count": 15,
   "metadata": {},
   "outputs": [],
   "source": [
    "from shuffleEntries import shuffleData, writeShuffleData"
   ]
  },
  {
   "cell_type": "markdown",
   "metadata": {},
   "source": [
    "### This will take the unshuffled file and store all the shuffled entries in a new file"
   ]
  },
  {
   "cell_type": "code",
   "execution_count": 16,
   "metadata": {},
   "outputs": [],
   "source": [
    "shuffledData = shuffleData(\"outputSandC.txt\")\n",
    "writeShuffleData(shuffledData)"
   ]
  }
 ],
 "metadata": {
  "kernelspec": {
   "display_name": "Python 3 (ipykernel)",
   "language": "python",
   "name": "python3"
  },
  "language_info": {
   "codemirror_mode": {
    "name": "ipython",
    "version": 3
   },
   "file_extension": ".py",
   "mimetype": "text/x-python",
   "name": "python",
   "nbconvert_exporter": "python",
   "pygments_lexer": "ipython3",
   "version": "3.9.13"
  }
 },
 "nbformat": 4,
 "nbformat_minor": 2
}
