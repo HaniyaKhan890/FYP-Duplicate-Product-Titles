{
 "cells": [
  {
   "cell_type": "code",
   "execution_count": 1,
   "metadata": {},
   "outputs": [],
   "source": [
    "import pandas as pd\n",
    "from nltk import ngrams"
   ]
  },
  {
   "cell_type": "code",
   "execution_count": 2,
   "metadata": {},
   "outputs": [],
   "source": [
    "# Read the Excel file\n",
    "df2 = pd.read_excel('snacksAndConfectionary_cleaned.xlsx')"
   ]
  },
  {
   "cell_type": "code",
   "execution_count": 3,
   "metadata": {},
   "outputs": [],
   "source": [
    "# Define a function to calculate Jaccard similarity for sets of tokens\n",
    "def jaccard_similarity(str1, str2):\n",
    "    # Convert strings to sets of n-grams (trigrams in this case)\n",
    "    set1 = set(ngrams(str1, 3))  \n",
    "    set2 = set(ngrams(str2, 3))\n",
    "    # Calculate Jaccard similarity\n",
    "    intersection = len(set1.intersection(set2))\n",
    "    union = len(set1) + len(set2) - intersection\n",
    "    return intersection / union if union != 0 else 0  # Avoid division by zero"
   ]
  },
  {
   "cell_type": "code",
   "execution_count": 4,
   "metadata": {},
   "outputs": [],
   "source": [
    "threshold = 0.80 # Set a similarity threshold for considering products as duplicates"
   ]
  },
  {
   "cell_type": "code",
   "execution_count": 5,
   "metadata": {},
   "outputs": [],
   "source": [
    "similar_products = {} # Dictionary to store groups of similar product titles and their master codes"
   ]
  },
  {
   "cell_type": "code",
   "execution_count": 6,
   "metadata": {},
   "outputs": [],
   "source": [
    "# Iterate over pairs and find similar products\n",
    "for i in range(len(df2)):\n",
    "    for j in range(i + 1, len(df2)):\n",
    "        similarity = jaccard_similarity(df2['product_name_english'][i], df2['product_name_english'][j])\n",
    "        if similarity > threshold:\n",
    "            # Add similar products to the dictionary\n",
    "            if i not in similar_products:\n",
    "                similar_products[i] = {\n",
    "                    'Product Titles': [df2['product_name_english'][i], df2['product_name_english'][j]],\n",
    "                    'Master Codes': [str(df2['encrypt_master_code'][i]), str(df2['encrypt_master_code'][j])]\n",
    "                }\n",
    "            else:\n",
    "                similar_products[i]['Product Titles'].append(df2['product_name_english'][j])\n",
    "                similar_products[i]['Master Codes'].append(str(df2['encrypt_master_code'][j]))"
   ]
  },
  {
   "cell_type": "code",
   "execution_count": 7,
   "metadata": {},
   "outputs": [],
   "source": [
    "# Convert the dictionary to a list of dictionaries for DataFrame creation\n",
    "similar_products_list = [{'Product Titles': ', '.join(similar['Product Titles']), 'Master Codes': ', '.join(similar['Master Codes'])} for similar in similar_products.values()]\n"
   ]
  },
  {
   "cell_type": "code",
   "execution_count": 8,
   "metadata": {},
   "outputs": [],
   "source": [
    "# Create a DataFrame from the list of similar products\n",
    "similar_products_df = pd.DataFrame(similar_products_list)"
   ]
  },
  {
   "cell_type": "code",
   "execution_count": 9,
   "metadata": {},
   "outputs": [],
   "source": [
    "# Save the DataFrame to an Excel file\n",
    "similar_products_df.to_excel('snacksAndConfectionary_duplicateTitles.xlsx', index=False)"
   ]
  },
  {
   "cell_type": "code",
   "execution_count": null,
   "metadata": {},
   "outputs": [],
   "source": []
  }
 ],
 "metadata": {
  "kernelspec": {
   "display_name": "Python 3 (ipykernel)",
   "language": "python",
   "name": "python3"
  },
  "language_info": {
   "codemirror_mode": {
    "name": "ipython",
    "version": 3
   },
   "file_extension": ".py",
   "mimetype": "text/x-python",
   "name": "python",
   "nbconvert_exporter": "python",
   "pygments_lexer": "ipython3",
   "version": "3.9.13"
  }
 },
 "nbformat": 4,
 "nbformat_minor": 2
}
