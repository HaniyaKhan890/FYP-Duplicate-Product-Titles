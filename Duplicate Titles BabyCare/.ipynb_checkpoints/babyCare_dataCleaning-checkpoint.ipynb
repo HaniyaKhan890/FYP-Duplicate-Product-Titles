{
 "cells": [
  {
   "cell_type": "markdown",
   "metadata": {},
   "source": [
    "### Importing pandas library to manipulate the structured data"
   ]
  },
  {
   "cell_type": "code",
   "execution_count": 8,
   "metadata": {},
   "outputs": [
    {
     "name": "stdout",
     "output_type": "stream",
     "text": [
      "\u001b[31mERROR: Could not find a version that satisfies the requirement shuffleEntries (from versions: none)\u001b[0m\u001b[31m\n",
      "\u001b[0m\u001b[31mERROR: No matching distribution found for shuffleEntries\u001b[0m\u001b[31m\n",
      "\u001b[0mNote: you may need to restart the kernel to use updated packages.\n"
     ]
    }
   ],
   "source": [
    "pip install shuffleEntries"
   ]
  },
  {
   "cell_type": "code",
   "execution_count": 1,
   "metadata": {},
   "outputs": [],
   "source": [
    "import pandas as pd"
   ]
  },
  {
   "cell_type": "markdown",
   "metadata": {},
   "source": [
    "### Loading the data into a dataframe"
   ]
  },
  {
   "cell_type": "code",
   "execution_count": 2,
   "metadata": {},
   "outputs": [],
   "source": [
    "original_df = pd.read_excel('catalog.xlsx')"
   ]
  },
  {
   "cell_type": "markdown",
   "metadata": {},
   "source": [
    "### extracting all information related to a single category and storing catalog indexes of those entries"
   ]
  },
  {
   "cell_type": "code",
   "execution_count": 3,
   "metadata": {},
   "outputs": [],
   "source": [
    "# copying the information related to the specified category into a new dataframe\n",
    "filtered_df = original_df[original_df['category'] == 'Baby Care 👶🏻🍼'].copy()\n",
    "\n",
    "# resetting the index of the dataframe to enumerate the new dataframe's index sequentially\n",
    "filtered_df = filtered_df.reset_index(drop=True)\n",
    "\n",
    "# inserting the original catalog indexes of each row into a new column in the newer dataframe\n",
    "filtered_df.insert(0, 'RowNumber', original_df.index[original_df['category'] == 'Baby Care 👶🏻🍼'].tolist())"
   ]
  },
  {
   "cell_type": "markdown",
   "metadata": {},
   "source": [
    "### This function cleans the data to send it for training by removing all unnecessary info and manipulating the data"
   ]
  },
  {
   "cell_type": "code",
   "execution_count": 4,
   "metadata": {},
   "outputs": [],
   "source": [
    "def dataCleaningBabycare(dataFrame):\n",
    "\n",
    "    # Copying the data to a new dataframe\n",
    "    df2 = dataFrame\n",
    "\n",
    "    # Will need this column with original names when giving the output to the user\n",
    "    old_column = df2['product_name_english'].to_list()\n",
    "\n",
    "    # Converts all text to lowercase, in order to train and test effectively\n",
    "    df2['product_name_english'] = df2['product_name_english'].str.lower()\n",
    "\n",
    "    # Replacing & with and when written between two words\n",
    "    df2['product_name_english'] = df2['product_name_english'].str.replace(r'\\b&\\b', 'and', regex=True)\n",
    "\n",
    "    # Remove characters other than letters, digits, '&', '%', '-', and '+'\n",
    "    df2['product_name_english'] = df2['product_name_english'].str.replace(r'[^a-zA-Z0-9&%\\-+ ]', '', regex=True)\n",
    "\n",
    "    # Remove trailing digits preceded by whitespace\n",
    "    df2['product_name_english'] = df2['product_name_english'].str.replace(r'\\s\\d+$', '', regex=True)\n",
    "\n",
    "    # Remove leading and trailing whitespaces\n",
    "    df2['product_name_english'] = df2['product_name_english'].str.strip()\n",
    "\n",
    "    # Remove words followed by digits at the end    \n",
    "    df2['product_name_english'] = df2['product_name_english'].str.replace(r'\\b\\w+\\d+$', '', regex=True)\n",
    "\n",
    "    # Replace 'pcs' with 'pieces'\n",
    "    df2['product_name_english'] = df2['product_name_english'].str.replace(r'pcs\\b', 'pieces', regex=True)\n",
    "\n",
    "    # Replace 'mo' with 'months'\n",
    "    df2['product_name_english'] = df2['product_name_english'].str.replace(r'mo\\b', 'months', regex=True)\n",
    "\n",
    "    # Remove 'imp' or 'basic' (with word boundaries) such that they are removed only if they are a whole word\n",
    "    df2['product_name_english'] = df2['product_name_english'].str.replace(r'\\bimp\\b|\\bbasic\\b', '', regex=True)\n",
    "\n",
    "    # Remove sequences of digits with four or more digits at word boundaries such that no digits are removed from alpha-numeric combinations\n",
    "    df2['product_name_english'] = df2['product_name_english'].str.replace(r'\\b\\d{4,}\\b', '', regex=True)\n",
    "\n",
    "    # Remove words starting with 'scf' followed by zero or more digits at word boundaries\n",
    "    df2['product_name_english'] = df2['product_name_english'].str.replace(r'\\bscf\\d*\\b', '', regex=True)\n",
    "\n",
    "    # Remove words that start with two letters, followed by two or more digits, and an optional additional word character at word boundaries\n",
    "    df2['product_name_english'] = df2['product_name_english'].str.replace(r'\\b[A-Za-z]{2}\\d{2,}\\w?\\b', '', regex=True)\n",
    "\n",
    "    # Remove words that start with a single letter, followed by two or more digits, and an optional additional word character at word boundarie\n",
    "    df2['product_name_english'] = df2['product_name_english'].str.replace(r'\\b[A-Za-z]\\d{2,}\\w?\\b', '', regex=True)\n",
    "\n",
    "    # Replace digits followed by 's' at word boundaries with the same digits and 'pieces'\n",
    "    df2['product_name_english'] = df2['product_name_english'].str.replace(r'(\\d+)s\\b', r'\\1 pieces', regex=True)\n",
    "\n",
    "    # Replace 'disp' with 'disposable'    \n",
    "    df2['product_name_english'] = df2['product_name_english'].str.replace(r'disp\\b', 'disposable', regex=True)\n",
    "\n",
    "    # Replace 'swmpnts' with 'swimpants'\n",
    "    df2['product_name_english'] = df2['product_name_english'].str.replace(r'swmpnts\\b', 'swimpants', regex=True)\n",
    "\n",
    "    # Remove 'nf' at word boundaries\n",
    "    df2['product_name_english'] = df2['product_name_english'].str.replace(r'nf\\b', '', regex=True)\n",
    "\n",
    "    # Remove 'bf' at word boundaries\n",
    "    df2['product_name_english'] = df2['product_name_english'].str.replace(r'bf\\b', '', regex=True)\n",
    "\n",
    "    # Remove 's - t '\n",
    "    df2['product_name_english'] = df2['product_name_english'].str.replace(r's - t ', '', regex=True)\n",
    "\n",
    "    # we are returning the resulting dataframe with cleaned values, the original catalog indexes and the list of original product names\n",
    "    return df2 , df2.iloc[:, 0].to_list(), old_column"
   ]
  },
  {
   "cell_type": "markdown",
   "metadata": {},
   "source": [
    "### Calling the data cleaning function to store the relevant information from the filtered dataframe"
   ]
  },
  {
   "cell_type": "code",
   "execution_count": 5,
   "metadata": {},
   "outputs": [],
   "source": [
    "resultDf, catalogIndex, originalNames = dataCleaningBabycare(filtered_df)"
   ]
  },
  {
   "cell_type": "markdown",
   "metadata": {},
   "source": [
    "### Writing all the data in a text file in order to make it in a suitable format for manual annotation\n",
    "#### Refer to the readme file in github repo to understand the annotation details further"
   ]
  },
  {
   "cell_type": "code",
   "execution_count": 6,
   "metadata": {},
   "outputs": [],
   "source": [
    "# getting all the cleaned titles in a list\n",
    "column_data = resultDf['product_name_english']\n",
    "\n",
    "# Writing to a text file with each cleaned entry on a new line\n",
    "with open('outputBabycare.txt', 'w') as file:\n",
    "    for entry in column_data:\n",
    "        file.write(str(entry) + '\\n')"
   ]
  },
  {
   "cell_type": "markdown",
   "metadata": {},
   "source": [
    "### Importing shuffling functions to shuffle order of cleaned titles in order to make sure data is varied and has no pattern"
   ]
  },
  {
   "cell_type": "code",
   "execution_count": 7,
   "metadata": {},
   "outputs": [
    {
     "ename": "ModuleNotFoundError",
     "evalue": "No module named 'shuffleEntries'",
     "output_type": "error",
     "traceback": [
      "\u001b[0;31m---------------------------------------------------------------------------\u001b[0m",
      "\u001b[0;31mModuleNotFoundError\u001b[0m                       Traceback (most recent call last)",
      "\u001b[0;32m/var/folders/4b/3_xq6mwx35vgd4p53xxx69480000gn/T/ipykernel_10750/2679895666.py\u001b[0m in \u001b[0;36m<module>\u001b[0;34m\u001b[0m\n\u001b[0;32m----> 1\u001b[0;31m \u001b[0;32mfrom\u001b[0m \u001b[0mshuffleEntries\u001b[0m \u001b[0;32mimport\u001b[0m \u001b[0mshuffleData\u001b[0m\u001b[0;34m,\u001b[0m \u001b[0mwriteShuffleData\u001b[0m\u001b[0;34m\u001b[0m\u001b[0;34m\u001b[0m\u001b[0m\n\u001b[0m",
      "\u001b[0;31mModuleNotFoundError\u001b[0m: No module named 'shuffleEntries'"
     ]
    }
   ],
   "source": [
    "from shuffleEntries import shuffleData, writeShuffleData"
   ]
  },
  {
   "cell_type": "markdown",
   "metadata": {},
   "source": [
    "### This will take the unshuffled file and store all the shuffled entries in a new file"
   ]
  },
  {
   "cell_type": "code",
   "execution_count": null,
   "metadata": {},
   "outputs": [],
   "source": [
    "shuffledData = shuffleData(\"outputBabycare.txt\")\n",
    "writeShuffleData(shuffledData)"
   ]
  },
  {
   "cell_type": "code",
   "execution_count": null,
   "metadata": {},
   "outputs": [],
   "source": []
  }
 ],
 "metadata": {
  "kernelspec": {
   "display_name": "Python 3 (ipykernel)",
   "language": "python",
   "name": "python3"
  },
  "language_info": {
   "codemirror_mode": {
    "name": "ipython",
    "version": 3
   },
   "file_extension": ".py",
   "mimetype": "text/x-python",
   "name": "python",
   "nbconvert_exporter": "python",
   "pygments_lexer": "ipython3",
   "version": "3.9.13"
  }
 },
 "nbformat": 4,
 "nbformat_minor": 2
}
