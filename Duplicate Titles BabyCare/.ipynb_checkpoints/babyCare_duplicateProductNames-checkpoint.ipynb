{
 "cells": [
  {
   "cell_type": "markdown",
   "metadata": {},
   "source": [
    "### Importing pandas library to manipulate the structured data"
   ]
  },
  {
   "cell_type": "code",
   "execution_count": 1,
   "metadata": {},
   "outputs": [],
   "source": [
    "import pandas as pd\n",
    "from nltk import ngrams\n",
    "from sklearn.feature_extraction.text import TfidfVectorizer\n",
    "from sklearn.metrics.pairwise import cosine_similarity"
   ]
  },
  {
   "cell_type": "code",
   "execution_count": 2,
   "metadata": {},
   "outputs": [],
   "source": [
    "df2 = pd.read_excel('babyCare_cleaned.xlsx')"
   ]
  },
  {
   "cell_type": "code",
   "execution_count": 3,
   "metadata": {},
   "outputs": [],
   "source": [
    "# Step 2: Define a function to calculate Jaccard similarity for sets of tokens\n",
    "def jaccard_similarity(str1, str2):\n",
    "    # Convert strings to sets of n-grams (trigrams in this case)\n",
    "    set1 = set(ngrams(str1, 3))  \n",
    "    set2 = set(ngrams(str2, 3))\n",
    "     # Calculate Jaccard similarity\n",
    "    intersection = len(set1.intersection(set2))\n",
    "    union = len(set1) + len(set2) - intersection\n",
    "    return intersection / union if union != 0 else 0  # Avoid division by zero"
   ]
  },
  {
   "cell_type": "code",
   "execution_count": 4,
   "metadata": {},
   "outputs": [],
   "source": [
    "threshold = 0.80 # Set a similarity threshold for considering products as duplicates"
   ]
  },
  {
   "cell_type": "code",
   "execution_count": 5,
   "metadata": {},
   "outputs": [],
   "source": [
    "product_master_dict = {} # Dictionary to store product_name_english and corresponding Master_codes"
   ]
  },
  {
   "cell_type": "code",
   "execution_count": 6,
   "metadata": {},
   "outputs": [],
   "source": [
    "# Iterate over pairs and find similar products\n",
    "for i in range(len(df2)):\n",
    "    for j in range(i + 1, len(df2)):\n",
    "        similarity = jaccard_similarity(df2['product_name_english'][i], df2['product_name_english'][j])\n",
    "        if similarity > threshold:\n",
    "            \n",
    "            # Store the product_name_english and corresponding Master_codes in the dictionary\n",
    "            product_master_dict.setdefault(df2['product_name_english'][i], set()).update([df2['RowNumber'][i], df2['RowNumber'][j]])\n",
    "            product_master_dict.setdefault(df2['product_name_english'][j], set()).update([df2['RowNumber'][i], df2['RowNumber'][j]])\n",
    "\n"
   ]
  },
  {
   "cell_type": "code",
   "execution_count": 7,
   "metadata": {},
   "outputs": [],
   "source": [
    "df3 = pd.DataFrame(list(product_master_dict.items()), columns=['Product', 'RowNumber'])"
   ]
  },
  {
   "cell_type": "code",
   "execution_count": 8,
   "metadata": {},
   "outputs": [
    {
     "data": {
      "text/html": [
       "<div>\n",
       "<style scoped>\n",
       "    .dataframe tbody tr th:only-of-type {\n",
       "        vertical-align: middle;\n",
       "    }\n",
       "\n",
       "    .dataframe tbody tr th {\n",
       "        vertical-align: top;\n",
       "    }\n",
       "\n",
       "    .dataframe thead th {\n",
       "        text-align: right;\n",
       "    }\n",
       "</style>\n",
       "<table border=\"1\" class=\"dataframe\">\n",
       "  <thead>\n",
       "    <tr style=\"text-align: right;\">\n",
       "      <th></th>\n",
       "      <th>Product</th>\n",
       "      <th>RowNumber</th>\n",
       "    </tr>\n",
       "  </thead>\n",
       "  <tbody>\n",
       "    <tr>\n",
       "      <th>0</th>\n",
       "      <td>pigeon feeding bottle flexible soft elastic 4m...</td>\n",
       "      <td>{31563, 292}</td>\n",
       "    </tr>\n",
       "    <tr>\n",
       "      <th>1</th>\n",
       "      <td>johnsons baby shampoo 750ml</td>\n",
       "      <td>{13176, 32238}</td>\n",
       "    </tr>\n",
       "    <tr>\n",
       "      <th>2</th>\n",
       "      <td>nestle nan-2 optipro 300gm</td>\n",
       "      <td>{15201, 33076}</td>\n",
       "    </tr>\n",
       "    <tr>\n",
       "      <th>3</th>\n",
       "      <td>nestle nan-2 optipro 300gm box</td>\n",
       "      <td>{15201, 33076}</td>\n",
       "    </tr>\n",
       "    <tr>\n",
       "      <th>4</th>\n",
       "      <td>philips avent baby soother ultra soft 0-6m -</td>\n",
       "      <td>{31038, 31022}</td>\n",
       "    </tr>\n",
       "    <tr>\n",
       "      <th>...</th>\n",
       "      <td>...</td>\n",
       "      <td>...</td>\n",
       "    </tr>\n",
       "    <tr>\n",
       "      <th>126</th>\n",
       "      <td>cool &amp; cool baby wipes ultra soft and gentle 8...</td>\n",
       "      <td>{34529, 35268}</td>\n",
       "    </tr>\n",
       "    <tr>\n",
       "      <th>127</th>\n",
       "      <td>philips avent teats flow natural 0m+  2 pc</td>\n",
       "      <td>{34946, 34558}</td>\n",
       "    </tr>\n",
       "    <tr>\n",
       "      <th>128</th>\n",
       "      <td>philips avent teats flow natural 1m+  2 pc -</td>\n",
       "      <td>{34946, 34558}</td>\n",
       "    </tr>\n",
       "    <tr>\n",
       "      <th>129</th>\n",
       "      <td>johnsons baby cologne brisa 100 ml -</td>\n",
       "      <td>{35740, 35453}</td>\n",
       "    </tr>\n",
       "    <tr>\n",
       "      <th>130</th>\n",
       "      <td>johnsons brisa baby cologne 100 ml</td>\n",
       "      <td>{35740, 35453}</td>\n",
       "    </tr>\n",
       "  </tbody>\n",
       "</table>\n",
       "<p>131 rows × 2 columns</p>\n",
       "</div>"
      ],
      "text/plain": [
       "                                               Product       RowNumber\n",
       "0    pigeon feeding bottle flexible soft elastic 4m...    {31563, 292}\n",
       "1                          johnsons baby shampoo 750ml  {13176, 32238}\n",
       "2                           nestle nan-2 optipro 300gm  {15201, 33076}\n",
       "3                       nestle nan-2 optipro 300gm box  {15201, 33076}\n",
       "4         philips avent baby soother ultra soft 0-6m -  {31038, 31022}\n",
       "..                                                 ...             ...\n",
       "126  cool & cool baby wipes ultra soft and gentle 8...  {34529, 35268}\n",
       "127         philips avent teats flow natural 0m+  2 pc  {34946, 34558}\n",
       "128       philips avent teats flow natural 1m+  2 pc -  {34946, 34558}\n",
       "129               johnsons baby cologne brisa 100 ml -  {35740, 35453}\n",
       "130                 johnsons brisa baby cologne 100 ml  {35740, 35453}\n",
       "\n",
       "[131 rows x 2 columns]"
      ]
     },
     "execution_count": 8,
     "metadata": {},
     "output_type": "execute_result"
    }
   ],
   "source": [
    "df3"
   ]
  },
  {
   "cell_type": "code",
   "execution_count": 9,
   "metadata": {},
   "outputs": [],
   "source": [
    "product_master_dict_frozen = {k: frozenset(v) for k, v in product_master_dict.items()}\n"
   ]
  },
  {
   "cell_type": "code",
   "execution_count": 10,
   "metadata": {},
   "outputs": [],
   "source": [
    "df3 = pd.DataFrame(list(product_master_dict_frozen.items()), columns=['Product', 'Values'])"
   ]
  },
  {
   "cell_type": "code",
   "execution_count": 11,
   "metadata": {},
   "outputs": [],
   "source": [
    "grouped_df = df3.groupby('Values')['Product'].apply(list).reset_index(name='Grouped_Products')\n"
   ]
  },
  {
   "cell_type": "code",
   "execution_count": 12,
   "metadata": {},
   "outputs": [],
   "source": [
    "grouped_df['Values'] = grouped_df['Values'].apply(set)\n"
   ]
  },
  {
   "cell_type": "code",
   "execution_count": 13,
   "metadata": {},
   "outputs": [
    {
     "name": "stdout",
     "output_type": "stream",
     "text": [
      "                   Values                                   Grouped_Products\n",
      "0            {31563, 292}  [pigeon feeding bottle flexible soft elastic 4...\n",
      "1          {32683, 34383}  [aveeno baby body wash daily care sensitive sk...\n",
      "2          {32969, 32677}                            [pigeon baby bottle  -]\n",
      "3          {32617, 35638}                     [pigeon baby feeding bottle -]\n",
      "4          {32558, 34415}  [pigeon baby liquid soap 200ml, pigeon baby li...\n",
      "..                    ...                                                ...\n",
      "76  {32080, 34450, 31630}  [philips avent baby feeding bottle natural 260...\n",
      "77         {31620, 35373}  [johnsons blossom baby powder 200gm thai, john...\n",
      "78         {34220, 31614}              [nestle nan grow-3 optipro 600gm box]\n",
      "79         {32803, 32269}  [nestle lactogrow  3 milk powder gentle grow 4...\n",
      "80         {35740, 35453}  [johnsons baby cologne brisa 100 ml -, johnson...\n",
      "\n",
      "[81 rows x 2 columns]\n"
     ]
    }
   ],
   "source": [
    "print(grouped_df)"
   ]
  },
  {
   "cell_type": "code",
   "execution_count": 14,
   "metadata": {},
   "outputs": [],
   "source": [
    "grouped_df.to_excel('babyCare_duplicateTitles.xlsx', index=False)"
   ]
  },
  {
   "cell_type": "code",
   "execution_count": null,
   "metadata": {},
   "outputs": [],
   "source": []
  }
 ],
 "metadata": {
  "kernelspec": {
   "display_name": "Python 3 (ipykernel)",
   "language": "python",
   "name": "python3"
  },
  "language_info": {
   "codemirror_mode": {
    "name": "ipython",
    "version": 3
   },
   "file_extension": ".py",
   "mimetype": "text/x-python",
   "name": "python",
   "nbconvert_exporter": "python",
   "pygments_lexer": "ipython3",
   "version": "3.9.13"
  }
 },
 "nbformat": 4,
 "nbformat_minor": 2
}
