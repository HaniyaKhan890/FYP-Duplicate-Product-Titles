{
 "cells": [
  {
   "cell_type": "markdown",
   "metadata": {},
   "source": [
    "### Importing pandas library to manipulate the structured data"
   ]
  },
  {
   "cell_type": "code",
   "execution_count": 18,
   "metadata": {},
   "outputs": [],
   "source": [
    "import pandas as pd\n",
    "from nltk import ngrams\n",
    "from sklearn.feature_extraction.text import TfidfVectorizer\n",
    "from sklearn.metrics.pairwise import cosine_similarity"
   ]
  },
  {
   "cell_type": "markdown",
   "metadata": {},
   "source": [
    "### Loading the data into a dataframe"
   ]
  },
  {
   "cell_type": "code",
   "execution_count": 19,
   "metadata": {},
   "outputs": [],
   "source": [
    "original_df = pd.read_excel('catalog.xlsx')"
   ]
  },
  {
   "cell_type": "markdown",
   "metadata": {},
   "source": [
    "### extracting all information related to a single category and storing catalog indexes of those entries"
   ]
  },
  {
   "cell_type": "code",
   "execution_count": 20,
   "metadata": {},
   "outputs": [],
   "source": [
    "# copying the information related to the specified category into a new dataframe\n",
    "df2 = original_df[original_df['category'] == 'Baby Care 👶🏻🍼'].copy()\n",
    "\n",
    "# resetting the index of the dataframe to enumerate the new dataframe's index sequentially\n",
    "df2 = df2.reset_index(drop=True)\n",
    "\n",
    "# inserting the original catalog indexes of each row into a new column in the newer dataframe\n",
    "df2.insert(0, 'RowNumber', original_df.index[original_df['category'] == 'Baby Care 👶🏻🍼'].tolist())"
   ]
  },
  {
   "cell_type": "code",
   "execution_count": 21,
   "metadata": {},
   "outputs": [],
   "source": [
    "# Converts all text to lowercase, in order to train and test effectively\n",
    "df2['product_name_english'] = df2['product_name_english'].str.lower()\n",
    "\n",
    "\n",
    "# Replacing & with and when written between two words\n",
    "df2['product_name_english'] = df2['product_name_english'].str.replace(r'\\b&\\b', 'and', regex=True)\n",
    "\n",
    "# Remove characters other than letters, digits, '&', '%', '-', and '+'\n",
    "df2['product_name_english'] = df2['product_name_english'].str.replace(r'[^a-zA-Z0-9&%\\-+ ]', '', regex=True)\n",
    "\n",
    "# Remove trailing digits preceded by whitespace\n",
    "df2['product_name_english'] = df2['product_name_english'].str.replace(r'\\s\\d+$', '', regex=True)\n",
    "\n",
    "# Remove leading and trailing whitespaces\n",
    "df2['product_name_english'] = df2['product_name_english'].str.strip()\n",
    "\n",
    "# Remove words followed by digits at the end    \n",
    "df2['product_name_english'] = df2['product_name_english'].str.replace(r'\\b\\w+\\d+$', '', regex=True)\n",
    "\n",
    "# Replace 'pcs' with 'pieces'\n",
    "df2['product_name_english'] = df2['product_name_english'].str.replace(r'pcs\\b', 'pieces', regex=True)\n",
    "\n",
    "# Replace 'mo' with 'months'\n",
    "df2['product_name_english'] = df2['product_name_english'].str.replace(r'mo\\b', 'months', regex=True)\n",
    "\n",
    "# Remove 'imp' or 'basic' (with word boundaries) such that they are removed only if they are a whole word\n",
    "df2['product_name_english'] = df2['product_name_english'].str.replace(r'\\bimp\\b|\\bbasic\\b', '', regex=True)\n",
    "\n",
    "# Remove sequences of digits with four or more digits at word boundaries such that no digits are removed from alpha-numeric combinations\n",
    "df2['product_name_english'] = df2['product_name_english'].str.replace(r'\\b\\d{4,}\\b', '', regex=True)\n",
    "\n",
    "# Remove words starting with 'scf' followed by zero or more digits at word boundaries\n",
    "df2['product_name_english'] = df2['product_name_english'].str.replace(r'\\bscf\\d*\\b', '', regex=True)\n",
    "\n",
    "# Remove words that start with two letters, followed by two or more digits, and an optional additional word character at word boundaries\n",
    "df2['product_name_english'] = df2['product_name_english'].str.replace(r'\\b[A-Za-z]{2}\\d{2,}\\w?\\b', '', regex=True)\n",
    "\n",
    "# Remove words that start with a single letter, followed by two or more digits, and an optional additional word character at word boundarie\n",
    "df2['product_name_english'] = df2['product_name_english'].str.replace(r'\\b[A-Za-z]\\d{2,}\\w?\\b', '', regex=True)\n",
    "\n",
    "# Replace digits followed by 's' at word boundaries with the same digits and 'pieces'\n",
    "df2['product_name_english'] = df2['product_name_english'].str.replace(r'(\\d+)s\\b', r'\\1 pieces', regex=True)\n",
    "\n",
    "# Replace 'disp' with 'disposable'    \n",
    "df2['product_name_english'] = df2['product_name_english'].str.replace(r'disp\\b', 'disposable', regex=True)\n",
    "\n",
    "# Replace 'swmpnts' with 'swimpants'\n",
    "df2['product_name_english'] = df2['product_name_english'].str.replace(r'swmpnts\\b', 'swimpants', regex=True)\n",
    "\n",
    "# Remove 'nf' at word boundaries\n",
    "df2['product_name_english'] = df2['product_name_english'].str.replace(r'nf\\b', '', regex=True)\n",
    "\n",
    "# Remove 'bf' at word boundaries\n",
    "df2['product_name_english'] = df2['product_name_english'].str.replace(r'bf\\b', '', regex=True)\n",
    "\n",
    "# Remove 's - t '\n",
    "df2['product_name_english'] = df2['product_name_english'].str.replace(r's - t ', '', regex=True)\n",
    "\n"
   ]
  },
  {
   "cell_type": "code",
   "execution_count": 22,
   "metadata": {},
   "outputs": [],
   "source": [
    "df2.to_excel('babyCare_cleaned.xlsx', index=False)"
   ]
  },
  {
   "cell_type": "code",
   "execution_count": null,
   "metadata": {},
   "outputs": [],
   "source": []
  },
  {
   "cell_type": "code",
   "execution_count": null,
   "metadata": {},
   "outputs": [],
   "source": []
  }
 ],
 "metadata": {
  "kernelspec": {
   "display_name": "Python 3 (ipykernel)",
   "language": "python",
   "name": "python3"
  },
  "language_info": {
   "codemirror_mode": {
    "name": "ipython",
    "version": 3
   },
   "file_extension": ".py",
   "mimetype": "text/x-python",
   "name": "python",
   "nbconvert_exporter": "python",
   "pygments_lexer": "ipython3",
   "version": "3.9.13"
  }
 },
 "nbformat": 4,
 "nbformat_minor": 2
}
