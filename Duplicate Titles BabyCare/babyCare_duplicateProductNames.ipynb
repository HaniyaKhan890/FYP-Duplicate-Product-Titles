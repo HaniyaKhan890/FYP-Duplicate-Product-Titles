{
 "cells": [
  {
   "cell_type": "markdown",
   "metadata": {},
   "source": [
    "### Importing pandas library to manipulate the structured data"
   ]
  },
  {
   "cell_type": "code",
   "execution_count": 42,
   "metadata": {},
   "outputs": [],
   "source": [
    "import pandas as pd\n",
    "from nltk import ngrams\n",
    "from sklearn.feature_extraction.text import TfidfVectorizer\n",
    "from sklearn.metrics.pairwise import cosine_similarity"
   ]
  },
  {
   "cell_type": "code",
   "execution_count": 43,
   "metadata": {},
   "outputs": [],
   "source": [
    "df2 = pd.read_excel('babyCare_cleaned.xlsx')"
   ]
  },
  {
   "cell_type": "code",
   "execution_count": 44,
   "metadata": {},
   "outputs": [],
   "source": [
    "# Step 2: Define a function to calculate Jaccard similarity for sets of tokens\n",
    "def jaccard_similarity(str1, str2):\n",
    "    # Convert strings to sets of n-grams (trigrams in this case)\n",
    "    set1 = set(ngrams(str1, 3))  \n",
    "    set2 = set(ngrams(str2, 3))\n",
    "     # Calculate Jaccard similarity\n",
    "    intersection = len(set1.intersection(set2))\n",
    "    union = len(set1) + len(set2) - intersection\n",
    "    return intersection / union if union != 0 else 0  # Avoid division by zero"
   ]
  },
  {
   "cell_type": "code",
   "execution_count": 45,
   "metadata": {},
   "outputs": [],
   "source": [
    "threshold = 0.80 # Set a similarity threshold for considering products as duplicates"
   ]
  },
  {
   "cell_type": "code",
   "execution_count": 46,
   "metadata": {},
   "outputs": [],
   "source": [
    "product_master_dict = {} # Dictionary to store product_name_english and corresponding Master_codes"
   ]
  },
  {
   "cell_type": "code",
   "execution_count": 47,
   "metadata": {},
   "outputs": [],
   "source": [
    "# Iterate over pairs and find similar products\n",
    "for i in range(len(df2)):\n",
    "    for j in range(i + 1, len(df2)):\n",
    "        similarity = jaccard_similarity(df2['product_name_english'][i], df2['product_name_english'][j])\n",
    "        if similarity > threshold:\n",
    "            \n",
    "            # Store the product_name_english and corresponding Master_codes in the dictionary\n",
    "            product_master_dict.setdefault(df2['product_name_english'][i], set()).update([df2['encrypt_master_code'][i], df2['encrypt_master_code'][j]])\n",
    "            product_master_dict.setdefault(df2['product_name_english'][j], set()).update([df2['encrypt_master_code'][i], df2['encrypt_master_code'][j]])\n",
    "\n"
   ]
  },
  {
   "cell_type": "code",
   "execution_count": 49,
   "metadata": {},
   "outputs": [],
   "source": [
    "product_master_dict_frozen = {k: frozenset(v) for k, v in product_master_dict.items()}\n"
   ]
  },
  {
   "cell_type": "code",
   "execution_count": 50,
   "metadata": {},
   "outputs": [],
   "source": [
    "df3 = pd.DataFrame(list(product_master_dict_frozen.items()), columns=['Product', 'Mastercode'])"
   ]
  },
  {
   "cell_type": "code",
   "execution_count": 51,
   "metadata": {},
   "outputs": [],
   "source": [
    "grouped_df = df3.groupby('Mastercode')['Product'].apply(list).reset_index(name='Duplicated_Products')\n"
   ]
  },
  {
   "cell_type": "code",
   "execution_count": 52,
   "metadata": {},
   "outputs": [],
   "source": [
    "grouped_df['Mastercode'] = grouped_df['Mastercode'].apply(set)\n"
   ]
  },
  {
   "cell_type": "code",
   "execution_count": 54,
   "metadata": {},
   "outputs": [],
   "source": [
    "grouped_df.to_excel('babyCare_duplicateTitles.xlsx', index=False)"
   ]
  },
  {
   "cell_type": "code",
   "execution_count": null,
   "metadata": {},
   "outputs": [],
   "source": []
  }
 ],
 "metadata": {
  "kernelspec": {
   "display_name": "Python 3 (ipykernel)",
   "language": "python",
   "name": "python3"
  },
  "language_info": {
   "codemirror_mode": {
    "name": "ipython",
    "version": 3
   },
   "file_extension": ".py",
   "mimetype": "text/x-python",
   "name": "python",
   "nbconvert_exporter": "python",
   "pygments_lexer": "ipython3",
   "version": "3.9.13"
  }
 },
 "nbformat": 4,
 "nbformat_minor": 2
}
